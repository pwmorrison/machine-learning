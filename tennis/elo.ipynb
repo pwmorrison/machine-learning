{
 "cells": [
  {
   "cell_type": "code",
   "execution_count": 63,
   "metadata": {},
   "outputs": [],
   "source": [
    "import pandas as pd\n",
    "import numpy as np\n",
    "import os"
   ]
  },
  {
   "cell_type": "markdown",
   "metadata": {},
   "source": [
    "# Elo\n",
    "Run Elo over a data set."
   ]
  },
  {
   "cell_type": "code",
   "execution_count": 71,
   "metadata": {},
   "outputs": [],
   "source": [
    "start_year = 1968 # 1968\n",
    "end_year = 2018  # The Kovalchik paper ends in 2014.\n",
    "base_dir = r\"C:/Users/Paul/tennis_atp\"\n",
    "filename_label = r\"atp_matches_%d.csv\"\n",
    "\n",
    "def process_year_df(df_year):\n",
    "    df = df_year.loc[:, ['tourney_name', 'tourney_level', 'tourney_date', 'match_num', 'score', 'round', 'winner_id', 'winner_name', 'loser_id', 'loser_name']]\n",
    "    # Put in chronological order.\n",
    "    df = df.sort_values(['tourney_date', 'tourney_name', 'match_num'], ascending=[True, True, True])\n",
    "    return df"
   ]
  },
  {
   "cell_type": "code",
   "execution_count": 72,
   "metadata": {},
   "outputs": [
    {
     "name": "stdout",
     "output_type": "stream",
     "text": [
      "C:/Users/Paul/tennis_atp\\atp_matches_1968.csv:  (1232, 10)\n",
      "C:/Users/Paul/tennis_atp\\atp_matches_1969.csv:  (1451, 10)\n",
      "C:/Users/Paul/tennis_atp\\atp_matches_1970.csv:  (1681, 10)\n",
      "C:/Users/Paul/tennis_atp\\atp_matches_1971.csv:  (2712, 10)\n",
      "C:/Users/Paul/tennis_atp\\atp_matches_1972.csv:  (2934, 10)\n",
      "C:/Users/Paul/tennis_atp\\atp_matches_1973.csv:  (3837, 10)\n",
      "C:/Users/Paul/tennis_atp\\atp_matches_1974.csv:  (3899, 10)\n",
      "C:/Users/Paul/tennis_atp\\atp_matches_1975.csv:  (4038, 10)\n",
      "C:/Users/Paul/tennis_atp\\atp_matches_1976.csv:  (3871, 10)\n",
      "C:/Users/Paul/tennis_atp\\atp_matches_1977.csv:  (4046, 10)\n",
      "C:/Users/Paul/tennis_atp\\atp_matches_1978.csv:  (3851, 10)\n",
      "C:/Users/Paul/tennis_atp\\atp_matches_1979.csv:  (4003, 10)\n",
      "C:/Users/Paul/tennis_atp\\atp_matches_1980.csv:  (3955, 10)\n",
      "C:/Users/Paul/tennis_atp\\atp_matches_1981.csv:  (3835, 10)\n",
      "C:/Users/Paul/tennis_atp\\atp_matches_1982.csv:  (4105, 10)\n",
      "C:/Users/Paul/tennis_atp\\atp_matches_1983.csv:  (3557, 10)\n",
      "C:/Users/Paul/tennis_atp\\atp_matches_1984.csv:  (3222, 10)\n",
      "C:/Users/Paul/tennis_atp\\atp_matches_1985.csv:  (3395, 10)\n",
      "C:/Users/Paul/tennis_atp\\atp_matches_1986.csv:  (3251, 10)\n",
      "C:/Users/Paul/tennis_atp\\atp_matches_1987.csv:  (3488, 10)\n",
      "C:/Users/Paul/tennis_atp\\atp_matches_1988.csv:  (3733, 10)\n",
      "C:/Users/Paul/tennis_atp\\atp_matches_1989.csv:  (3583, 10)\n",
      "C:/Users/Paul/tennis_atp\\atp_matches_1990.csv:  (3321, 10)\n",
      "C:/Users/Paul/tennis_atp\\atp_matches_1991.csv:  (3727, 10)\n",
      "C:/Users/Paul/tennis_atp\\atp_matches_1992.csv:  (3792, 10)\n",
      "C:/Users/Paul/tennis_atp\\atp_matches_1993.csv:  (3890, 10)\n",
      "C:/Users/Paul/tennis_atp\\atp_matches_1994.csv:  (3938, 10)\n",
      "C:/Users/Paul/tennis_atp\\atp_matches_1995.csv:  (3800, 10)\n",
      "C:/Users/Paul/tennis_atp\\atp_matches_1996.csv:  (3771, 10)\n",
      "C:/Users/Paul/tennis_atp\\atp_matches_1997.csv:  (3623, 10)\n",
      "C:/Users/Paul/tennis_atp\\atp_matches_1998.csv:  (3589, 10)\n",
      "C:/Users/Paul/tennis_atp\\atp_matches_1999.csv:  (3327, 10)\n",
      "C:/Users/Paul/tennis_atp\\atp_matches_2000.csv:  (3364, 10)\n",
      "C:/Users/Paul/tennis_atp\\atp_matches_2001.csv:  (3307, 10)\n",
      "C:/Users/Paul/tennis_atp\\atp_matches_2002.csv:  (3236, 10)\n",
      "C:/Users/Paul/tennis_atp\\atp_matches_2003.csv:  (3214, 10)\n",
      "C:/Users/Paul/tennis_atp\\atp_matches_2004.csv:  (3277, 10)\n",
      "C:/Users/Paul/tennis_atp\\atp_matches_2005.csv:  (3257, 10)\n",
      "C:/Users/Paul/tennis_atp\\atp_matches_2006.csv:  (3257, 10)\n",
      "C:/Users/Paul/tennis_atp\\atp_matches_2007.csv:  (3152, 10)\n",
      "C:/Users/Paul/tennis_atp\\atp_matches_2008.csv:  (3110, 10)\n",
      "C:/Users/Paul/tennis_atp\\atp_matches_2009.csv:  (3074, 10)\n",
      "C:/Users/Paul/tennis_atp\\atp_matches_2010.csv:  (3058, 10)\n",
      "C:/Users/Paul/tennis_atp\\atp_matches_2011.csv:  (3030, 10)\n",
      "C:/Users/Paul/tennis_atp\\atp_matches_2012.csv:  (3025, 10)\n",
      "C:/Users/Paul/tennis_atp\\atp_matches_2013.csv:  (2959, 10)\n",
      "C:/Users/Paul/tennis_atp\\atp_matches_2014.csv:  (2901, 10)\n",
      "C:/Users/Paul/tennis_atp\\atp_matches_2015.csv:  (2958, 10)\n",
      "C:/Users/Paul/tennis_atp\\atp_matches_2016.csv:  (2941, 10)\n",
      "C:/Users/Paul/tennis_atp\\atp_matches_2017.csv:  (2886, 10)\n",
      "C:/Users/Paul/tennis_atp\\atp_matches_2018.csv:  (1416, 10)\n"
     ]
    }
   ],
   "source": [
    "# Read the match data.\n",
    "df = None\n",
    "for year in range(start_year, end_year + 1):\n",
    "    filename = os.path.join(base_dir, filename_label % year)\n",
    "    df_year = pd.read_csv(filename)\n",
    "    df_year = process_year_df(df_year)\n",
    "#     df_year = df_year.loc[df_year['tourney_name'] == 'Montpellier']\n",
    "#     print(filename)\n",
    "#     print(df_year[0:300])\n",
    "    \n",
    "    print(\"%s: \" % filename, df_year.shape)\n",
    "    \n",
    "    if df is None:\n",
    "        df = df_year\n",
    "    else:\n",
    "        df = pd.concat([df, df_year])"
   ]
  },
  {
   "cell_type": "code",
   "execution_count": 73,
   "metadata": {},
   "outputs": [
    {
     "name": "stdout",
     "output_type": "stream",
     "text": [
      "['G' 'A' 'D' 'M' 'F' 'C']\n"
     ]
    }
   ],
   "source": [
    "print(df.tourney_level.unique())"
   ]
  },
  {
   "cell_type": "code",
   "execution_count": 74,
   "metadata": {},
   "outputs": [],
   "source": [
    "# Run Elo through the data.\n",
    "# http://www.eloratings.net/about\n",
    "# https://www.betfair.com.au/hub/better-betting/betting-strategies/tennis/tennis-elo-modelling/\n",
    "# http://vuir.vu.edu.au/34652/1/jqas-2015-0059.pdf\n",
    "\n",
    "start_elo = 1500\n",
    "grand_slam_multiplier = 1.1\n",
    "use_fte_K = True\n",
    "remove_walkovers = True\n",
    "remove_retirements = True\n",
    "tourney_levels = ['G', 'M', 'A']\n",
    "\n",
    "if use_fte_K:\n",
    "    def get_K(n_matches):\n",
    "        return 250 / np.power(n_matches + 5, 0.4)\n",
    "else:\n",
    "    def get_K(n_matches): \n",
    "        return 20\n",
    "\n",
    "from collections import defaultdict\n",
    "# The Elo rating at any point in time.\n",
    "elo_ratings = defaultdict(lambda: start_elo)\n",
    "# The number of matches played by each player, at any point in time.\n",
    "n_matches_played = defaultdict(lambda: 1)\n",
    "# The latest tournament date.\n",
    "latest_tourney_date = defaultdict(lambda: 0)\n",
    "\n",
    "# Perform predictions on the final year.\n",
    "prediction_year = end_year\n",
    "predicted_winner_probabilities = {}\n",
    "n_predictions = 0\n",
    "n_correct_predictions = 0\n",
    "n_grand_slams = 0\n",
    "n_masters = 0\n",
    "\n",
    "for index, row in df.iterrows():\n",
    "\n",
    "    if row['tourney_level'] not in tourney_levels:\n",
    "        continue\n",
    "    \n",
    "    if remove_walkovers:\n",
    "        if pd.isna(row['score']) or 'W/O' in row['score']:\n",
    "            # This match wasn't played.\n",
    "            continue\n",
    "          \n",
    "    winner = row['winner_name']\n",
    "    loser = row['loser_name']\n",
    "    \n",
    "    n_matches_played[winner] += 1\n",
    "    n_matches_played[loser] += 1\n",
    "    \n",
    "    latest_tourney_date[winner] = row['tourney_date']\n",
    "    latest_tourney_date[loser] = row['tourney_date']\n",
    "    \n",
    "    if remove_retirements:\n",
    "        if 'RET' in row['score'] or 'ABD' in row['score'] or 'unfinished' in row['score'] or 'DEF' in row['score']:\n",
    "            # Don't update the ratings for this match.\n",
    "            continue\n",
    "            \n",
    "#     print('-', row['tourney_date'], row['score'], '-')\n",
    "    \n",
    "    # The pre-match ratings.\n",
    "    winner_rating = elo_ratings[winner]\n",
    "    loser_rating = elo_ratings[loser]\n",
    "        \n",
    "    # The pre-match win expectancy.\n",
    "    rating_diff = winner_rating - loser_rating\n",
    "    winner_win_expectancy = 1 / (10 ** (-rating_diff / 400) + 1)\n",
    "    loser_win_expectancy = 1 - winner_win_expectancy\n",
    "    \n",
    "    # The post-match ratings.\n",
    "    multiplier = 1.0\n",
    "    if row['tourney_level'] == 'G':\n",
    "        multiplier = grand_slam_multiplier\n",
    "    K_winner = get_K(n_matches_played[winner]) * multiplier\n",
    "    K_loser = get_K(n_matches_played[loser]) * multiplier\n",
    "    new_winner_rating = winner_rating + K_winner * (1 - winner_win_expectancy)\n",
    "    new_loser_rating = loser_rating + K_loser * (0 - loser_win_expectancy)\n",
    "    \n",
    "    current_year = int(str(row['tourney_date'])[0:4])\n",
    "    if current_year == prediction_year:\n",
    "        # Record the prediction for this year.\n",
    "        n_predictions += 1\n",
    "        if winner_win_expectancy > 0.5:\n",
    "            n_correct_predictions += 1\n",
    "        if row['tourney_level'] == 'G':\n",
    "            n_grand_slams += 1\n",
    "        if row['tourney_level'] == 'M':\n",
    "            n_masters += 1\n",
    "    \n",
    "    elo_ratings[winner] = new_winner_rating\n",
    "    elo_ratings[loser] = new_loser_rating\n",
    "    "
   ]
  },
  {
   "cell_type": "code",
   "execution_count": 75,
   "metadata": {},
   "outputs": [
    {
     "name": "stdout",
     "output_type": "stream",
     "text": [
      "Predicted 762 / 1199 = 0.636 correct predictions\n",
      "123 grand slams, 347 masters:\n"
     ]
    }
   ],
   "source": [
    "accuracy = n_correct_predictions / n_predictions\n",
    "print(\"Predicted %d / %d = %.3f correct predictions\" % (n_correct_predictions, n_predictions, accuracy))\n",
    "print(\"%d grand slams, %d masters:\" % (n_grand_slams, n_masters))"
   ]
  },
  {
   "cell_type": "code",
   "execution_count": 77,
   "metadata": {},
   "outputs": [
    {
     "name": "stdout",
     "output_type": "stream",
     "text": [
      "20170000\n"
     ]
    },
    {
     "data": {
      "text/plain": [
       "<bound method NDFrame.head of                                   rating\n",
       "Roger Federer                2331.367268\n",
       "Rafael Nadal                 2303.170820\n",
       "Novak Djokovic               2295.163544\n",
       "Andy Murray                  2285.677671\n",
       "Juan Martin Del Potro        2174.431072\n",
       "Alexander Zverev             2159.239377\n",
       "Kei Nishikori                2133.182952\n",
       "Nick Kyrgios                 2086.791775\n",
       "Jo Wilfried Tsonga           2063.618241\n",
       "Milos Raonic                 2060.191096\n",
       "Dominic Thiem                2058.397403\n",
       "Grigor Dimitrov              2050.180493\n",
       "David Goffin                 2035.444391\n",
       "Stanislas Wawrinka           2034.865399\n",
       "Marin Cilic                  2023.149848\n",
       "Tomas Berdych                2001.860219\n",
       "Kevin Anderson               1991.954081\n",
       "Borna Coric                  1974.660830\n",
       "Roberto Bautista Agut        1969.074225\n",
       "Gael Monfils                 1966.598511\n",
       "Kyle Edmund                  1965.027031\n",
       "Hyeon Chung                  1964.850076\n",
       "Denis Shapovalov             1963.117994\n",
       "Philipp Kohlschreiber        1960.344578\n",
       "Richard Gasquet              1955.785695\n",
       "Pablo Carreno Busta          1938.691223\n",
       "John Isner                   1932.338429\n",
       "Fabio Fognini                1931.089989\n",
       "Diego Sebastian Schwartzman  1913.148595\n",
       "David Ferrer                 1906.194321\n",
       "...                                  ...\n",
       "Riccardo Bellotti            1445.660807\n",
       "Alexei Popyrin               1444.604971\n",
       "Artem Sitak                  1442.714389\n",
       "Yibing Wu                    1442.362593\n",
       "Lorenzo Giustino             1441.820770\n",
       "Sumit Nagal                  1440.899508\n",
       "Jose Hernandez               1439.372515\n",
       "Marc Polmans                 1439.215493\n",
       "Konstantin Kravchuk          1437.366599\n",
       "Michael Venus                1436.581267\n",
       "Dimitar Kuzmanov             1436.106559\n",
       "Alexander Ward               1434.763350\n",
       "Akira Santillan              1433.712135\n",
       "Daniel Masur                 1432.804434\n",
       "Patrick Kypson               1431.772429\n",
       "Gregoire Barrere             1428.102249\n",
       "Jordi Samper Montana         1426.010248\n",
       "Antoine Bellier              1423.352277\n",
       "Aldin Setkic                 1422.043431\n",
       "Kimmer Coppejans             1409.637181\n",
       "Jonathan Eysseric            1405.380544\n",
       "Manuel Sanchez               1404.655186\n",
       "Mackenzie Mcdonald           1400.183163\n",
       "Guilherme Clezar             1397.545154\n",
       "Agustin Velotti              1395.555839\n",
       "Alex Bolt                    1389.943880\n",
       "Omar Awadhy                  1386.742793\n",
       "Laurent Lokoli               1385.080496\n",
       "Jabor Al Mutawa              1369.681316\n",
       "Cem Ilkel                    1356.960013\n",
       "\n",
       "[346 rows x 1 columns]>"
      ]
     },
     "execution_count": 77,
     "metadata": {},
     "output_type": "execute_result"
    }
   ],
   "source": [
    "# Remove players who haven't played since the start of the previous year.\n",
    "cutoff_date = int(str(end_year - 1) + \"0000\")\n",
    "print(cutoff_date)\n",
    "for p in latest_tourney_date.keys():\n",
    "    if latest_tourney_date[p] < cutoff_date:\n",
    "        try:\n",
    "            del elo_ratings[p]\n",
    "#             print(\"Removing player %s, latest date %s\" % (p, latest_tourney_date[p]))\n",
    "        except:\n",
    "            pass\n",
    "\n",
    "df_elo_ratings = pd.DataFrame.from_dict(elo_ratings, orient='index')\n",
    "df_elo_ratings.columns = ['rating']\n",
    "df_elo_ratings = df_elo_ratings.sort_values(['rating'], ascending=[False])\n",
    "df_elo_ratings.head"
   ]
  },
  {
   "cell_type": "code",
   "execution_count": null,
   "metadata": {},
   "outputs": [],
   "source": []
  },
  {
   "cell_type": "markdown",
   "metadata": {},
   "source": [
    "This seems pretty good... it might not match the 538 or tennisabstract ratings, but at least the top players come out on top.\n",
    "\n",
    "To-do:\n",
    "* Maybe filter so that only currently players are displayed.\n",
    "* Add the time-off penalty: http://www.tennisabstract.com/blog/2018/05/15/handling-injuries-and-absences-with-tennis-elo/"
   ]
  }
 ],
 "metadata": {
  "kernelspec": {
   "display_name": "Python 3",
   "language": "python",
   "name": "python3"
  },
  "language_info": {
   "codemirror_mode": {
    "name": "ipython",
    "version": 3
   },
   "file_extension": ".py",
   "mimetype": "text/x-python",
   "name": "python",
   "nbconvert_exporter": "python",
   "pygments_lexer": "ipython3",
   "version": "3.6.5"
  }
 },
 "nbformat": 4,
 "nbformat_minor": 2
}
